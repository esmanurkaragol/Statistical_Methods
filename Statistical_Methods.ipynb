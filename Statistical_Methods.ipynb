{
 "cells": [
  {
   "cell_type": "markdown",
   "id": "fbf9833a",
   "metadata": {},
   "source": [
    "# Statistical Methods\n"
   ]
  },
  {
   "cell_type": "code",
   "execution_count": 26,
   "id": "85e66f66",
   "metadata": {},
   "outputs": [],
   "source": [
    "import itertools\n",
    "import warnings\n",
    "import matplotlib.pyplot as plt\n",
    "import numpy as np\n",
    "import pandas as pd\n",
    "import statsmodels.api as sm\n",
    "from sklearn.metrics import mean_absolute_error\n",
    "from statsmodels.tsa.arima_model import ARIMA\n",
    "# from statsmodels.tsa.holtwinters import ExponentialSmoothing\n",
    "# from statsmodels.tsa.holtwinters import SimpleExpSmoothing\n",
    "from statsmodels.tsa.seasonal import seasonal_decompose\n",
    "import statsmodels.tsa.api as smt\n",
    "from statsmodels.tsa.statespace.sarimax import SARIMAX\n",
    "from statsmodels.tsa.arima.model import ARIMA\n",
    "warnings.filterwarnings('ignore')"
   ]
  },
  {
   "cell_type": "code",
   "execution_count": 16,
   "id": "93c76433",
   "metadata": {},
   "outputs": [],
   "source": [
    "# Veri Seti\n",
    "############################\n",
    "\n",
    "# Atmospheric CO2 from Continuous Air Samples at Mauna Loa Observatory, Hawaii, U.S.A.\n",
    "# Period of Record: March 1958 - December 2001"
   ]
  },
  {
   "cell_type": "code",
   "execution_count": 17,
   "id": "ec78aee1",
   "metadata": {},
   "outputs": [],
   "source": [
    "data = sm.datasets.co2.load_pandas()\n"
   ]
  },
  {
   "cell_type": "code",
   "execution_count": 18,
   "id": "08e1dc73",
   "metadata": {},
   "outputs": [
    {
     "data": {
      "text/html": [
       "<div>\n",
       "<style scoped>\n",
       "    .dataframe tbody tr th:only-of-type {\n",
       "        vertical-align: middle;\n",
       "    }\n",
       "\n",
       "    .dataframe tbody tr th {\n",
       "        vertical-align: top;\n",
       "    }\n",
       "\n",
       "    .dataframe thead th {\n",
       "        text-align: right;\n",
       "    }\n",
       "</style>\n",
       "<table border=\"1\" class=\"dataframe\">\n",
       "  <thead>\n",
       "    <tr style=\"text-align: right;\">\n",
       "      <th></th>\n",
       "      <th>co2</th>\n",
       "    </tr>\n",
       "  </thead>\n",
       "  <tbody>\n",
       "    <tr>\n",
       "      <th>1958-03-29</th>\n",
       "      <td>316.1</td>\n",
       "    </tr>\n",
       "    <tr>\n",
       "      <th>1958-04-05</th>\n",
       "      <td>317.3</td>\n",
       "    </tr>\n",
       "    <tr>\n",
       "      <th>1958-04-12</th>\n",
       "      <td>317.6</td>\n",
       "    </tr>\n",
       "    <tr>\n",
       "      <th>1958-04-19</th>\n",
       "      <td>317.5</td>\n",
       "    </tr>\n",
       "    <tr>\n",
       "      <th>1958-04-26</th>\n",
       "      <td>316.4</td>\n",
       "    </tr>\n",
       "    <tr>\n",
       "      <th>...</th>\n",
       "      <td>...</td>\n",
       "    </tr>\n",
       "    <tr>\n",
       "      <th>2001-12-01</th>\n",
       "      <td>370.3</td>\n",
       "    </tr>\n",
       "    <tr>\n",
       "      <th>2001-12-08</th>\n",
       "      <td>370.8</td>\n",
       "    </tr>\n",
       "    <tr>\n",
       "      <th>2001-12-15</th>\n",
       "      <td>371.2</td>\n",
       "    </tr>\n",
       "    <tr>\n",
       "      <th>2001-12-22</th>\n",
       "      <td>371.3</td>\n",
       "    </tr>\n",
       "    <tr>\n",
       "      <th>2001-12-29</th>\n",
       "      <td>371.5</td>\n",
       "    </tr>\n",
       "  </tbody>\n",
       "</table>\n",
       "<p>2284 rows × 1 columns</p>\n",
       "</div>"
      ],
      "text/plain": [
       "              co2\n",
       "1958-03-29  316.1\n",
       "1958-04-05  317.3\n",
       "1958-04-12  317.6\n",
       "1958-04-19  317.5\n",
       "1958-04-26  316.4\n",
       "...           ...\n",
       "2001-12-01  370.3\n",
       "2001-12-08  370.8\n",
       "2001-12-15  371.2\n",
       "2001-12-22  371.3\n",
       "2001-12-29  371.5\n",
       "\n",
       "[2284 rows x 1 columns]"
      ]
     },
     "execution_count": 18,
     "metadata": {},
     "output_type": "execute_result"
    }
   ],
   "source": [
    "y = data.data\n",
    "y"
   ]
  },
  {
   "cell_type": "code",
   "execution_count": 19,
   "id": "7f5b4f6f",
   "metadata": {},
   "outputs": [
    {
     "data": {
      "text/plain": [
       "1958-03-01    316.100000\n",
       "1958-04-01    317.200000\n",
       "1958-05-01    317.433333\n",
       "1958-06-01           NaN\n",
       "1958-07-01    315.625000\n",
       "                 ...    \n",
       "2001-08-01    369.425000\n",
       "2001-09-01    367.880000\n",
       "2001-10-01    368.050000\n",
       "2001-11-01    369.375000\n",
       "2001-12-01    371.020000\n",
       "Freq: MS, Name: co2, Length: 526, dtype: float64"
      ]
     },
     "execution_count": 19,
     "metadata": {},
     "output_type": "execute_result"
    }
   ],
   "source": [
    "y = y['co2'].resample('MS').mean()\n",
    "y"
   ]
  },
  {
   "cell_type": "code",
   "execution_count": 20,
   "id": "a5fb2207",
   "metadata": {},
   "outputs": [
    {
     "data": {
      "text/plain": [
       "1958-03-01    316.100000\n",
       "1958-04-01    317.200000\n",
       "1958-05-01    317.433333\n",
       "1958-06-01    315.625000\n",
       "1958-07-01    315.625000\n",
       "                 ...    \n",
       "2001-08-01    369.425000\n",
       "2001-09-01    367.880000\n",
       "2001-10-01    368.050000\n",
       "2001-11-01    369.375000\n",
       "2001-12-01    371.020000\n",
       "Freq: MS, Name: co2, Length: 526, dtype: float64"
      ]
     },
     "execution_count": 20,
     "metadata": {},
     "output_type": "execute_result"
    }
   ],
   "source": [
    "y = y.fillna(y.bfill())\n",
    "y"
   ]
  },
  {
   "cell_type": "code",
   "execution_count": 21,
   "id": "78cb30ad",
   "metadata": {},
   "outputs": [
    {
     "data": {
      "text/plain": [
       "1958-03-01    316.100000\n",
       "1958-04-01    317.200000\n",
       "1958-05-01    317.433333\n",
       "1958-06-01    315.625000\n",
       "1958-07-01    315.625000\n",
       "                 ...    \n",
       "1997-08-01    362.460000\n",
       "1997-09-01    360.150000\n",
       "1997-10-01    360.750000\n",
       "1997-11-01    362.380000\n",
       "1997-12-01    364.250000\n",
       "Freq: MS, Name: co2, Length: 478, dtype: float64"
      ]
     },
     "execution_count": 21,
     "metadata": {},
     "output_type": "execute_result"
    }
   ],
   "source": [
    "train = y[:'1997-12-01']\n",
    "train"
   ]
  },
  {
   "cell_type": "code",
   "execution_count": 22,
   "id": "7494e84d",
   "metadata": {},
   "outputs": [
    {
     "data": {
      "text/plain": [
       "1998-01-01    365.340\n",
       "1998-02-01    366.200\n",
       "1998-03-01    367.375\n",
       "1998-04-01    368.525\n",
       "1998-05-01    369.140\n",
       "1998-06-01    368.750\n",
       "1998-07-01    367.600\n",
       "1998-08-01    365.720\n",
       "1998-09-01    363.925\n",
       "1998-10-01    364.320\n",
       "1998-11-01    365.550\n",
       "1998-12-01    366.925\n",
       "1999-01-01    368.120\n",
       "1999-02-01    368.850\n",
       "1999-03-01    369.600\n",
       "1999-04-01    370.975\n",
       "1999-05-01    370.840\n",
       "1999-06-01    370.250\n",
       "1999-07-01    369.000\n",
       "1999-08-01    366.700\n",
       "1999-09-01    364.675\n",
       "1999-10-01    365.140\n",
       "1999-11-01    366.650\n",
       "1999-12-01    367.900\n",
       "2000-01-01    369.020\n",
       "2000-02-01    369.375\n",
       "2000-03-01    370.400\n",
       "2000-04-01    371.540\n",
       "2000-05-01    371.650\n",
       "2000-06-01    371.625\n",
       "2000-07-01    369.940\n",
       "2000-08-01    367.950\n",
       "2000-09-01    366.540\n",
       "2000-10-01    366.725\n",
       "2000-11-01    368.125\n",
       "2000-12-01    369.440\n",
       "2001-01-01    370.175\n",
       "2001-02-01    371.325\n",
       "2001-03-01    372.060\n",
       "2001-04-01    372.775\n",
       "2001-05-01    373.800\n",
       "2001-06-01    373.060\n",
       "2001-07-01    371.300\n",
       "2001-08-01    369.425\n",
       "2001-09-01    367.880\n",
       "2001-10-01    368.050\n",
       "2001-11-01    369.375\n",
       "2001-12-01    371.020\n",
       "Freq: MS, Name: co2, dtype: float64"
      ]
     },
     "execution_count": 22,
     "metadata": {},
     "output_type": "execute_result"
    }
   ],
   "source": [
    "test = y['1998-01-01':]\n",
    "test"
   ]
  },
  {
   "cell_type": "markdown",
   "id": "c4344dcb",
   "metadata": {},
   "source": [
    "# ARIMA(p, d, q): (Autoregressive Integrated Moving Average)\n",
    "trend olan serilerde kullanılır ancak mevsimsellik olan serilerde kullanılmaz."
   ]
  },
  {
   "cell_type": "code",
   "execution_count": 28,
   "id": "c34535c6",
   "metadata": {},
   "outputs": [],
   "source": [
    "#order p,d ve q değerleri girilir.\n",
    "#ekrana çıktı kalabalıklığı olmasın diye disp=0 yazılır. (ML deki verbose gibi)\n",
    "arima_model = ARIMA(train, order=(1, 1, 1)).fit #(disp=0)\n"
   ]
  },
  {
   "cell_type": "code",
   "execution_count": 30,
   "id": "0057cb72",
   "metadata": {},
   "outputs": [
    {
     "ename": "AttributeError",
     "evalue": "'function' object has no attribute 'summary'",
     "output_type": "error",
     "traceback": [
      "\u001b[1;31m---------------------------------------------------------------------------\u001b[0m",
      "\u001b[1;31mAttributeError\u001b[0m                            Traceback (most recent call last)",
      "Cell \u001b[1;32mIn[30], line 1\u001b[0m\n\u001b[1;32m----> 1\u001b[0m \u001b[43marima_model\u001b[49m\u001b[38;5;241;43m.\u001b[39;49m\u001b[43msummary\u001b[49m\n",
      "\u001b[1;31mAttributeError\u001b[0m: 'function' object has no attribute 'summary'"
     ]
    }
   ],
   "source": [
    "arima_model.summary()\n"
   ]
  },
  {
   "cell_type": "code",
   "execution_count": null,
   "id": "f120fc7e",
   "metadata": {},
   "outputs": [],
   "source": [
    "#48 birim sonraki değeri tahmin et. çıktı kalabalık olmasın benım isteğim 0.index diye sadece 0.index bilgilerini istiyorum.\n",
    "y_pred = arima_model.forecast(48)[0]\n"
   ]
  },
  {
   "cell_type": "code",
   "execution_count": null,
   "id": "c0466354",
   "metadata": {},
   "outputs": [],
   "source": [
    "y_pred = pd.Series(y_pred, index=test.index)\n"
   ]
  },
  {
   "cell_type": "code",
   "execution_count": null,
   "id": "3afb80c8",
   "metadata": {},
   "outputs": [],
   "source": [
    "def plot_co2(train, test, y_pred, title):\n",
    "    mae = mean_absolute_error(test, y_pred)\n",
    "    train[\"1985\":].plot(legend=True, label=\"TRAIN\", title=f\"{title}, MAE: {round(mae,2)}\")\n",
    "    test.plot(legend=True, label=\"TEST\", figsize=(6, 4))\n",
    "    y_pred.plot(legend=True, label=\"PREDICTION\")\n",
    "    plt.show()"
   ]
  },
  {
   "cell_type": "code",
   "execution_count": null,
   "id": "471dfb87",
   "metadata": {},
   "outputs": [],
   "source": [
    "plot_co2(train, test, y_pred, \"ARIMA\")\n"
   ]
  },
  {
   "cell_type": "markdown",
   "id": "db666568",
   "metadata": {},
   "source": [
    "- Hyperparameter Optimization (Model Derecelerini Belirleme)\n",
    "Arıma modellerindeki dışsal parametrelerin optimum değerleirni bulmaya çalışıcağız. bunun için 2 farklı yöntem vardır.\n",
    "Bunlardan Biri --> AIC & BIC İstatistiklerine Göre Model Derecesini Belirlem\n",
    "Diğeri --> ACF & PAC grafiklerine göre model derecesini belirleme\n"
   ]
  },
  {
   "cell_type": "code",
   "execution_count": null,
   "id": "351cb7bc",
   "metadata": {},
   "outputs": [],
   "source": [
    "# AIC & BIC İstatistiklerine Göre Model Derecesini Belirleme\n",
    "#aıc ne kadar düşük o kadar iyi."
   ]
  },
  {
   "cell_type": "code",
   "execution_count": 35,
   "id": "ec359943",
   "metadata": {},
   "outputs": [
    {
     "data": {
      "text/plain": [
       "[(0, 0, 0),\n",
       " (0, 0, 1),\n",
       " (0, 0, 2),\n",
       " (0, 0, 3),\n",
       " (0, 1, 0),\n",
       " (0, 1, 1),\n",
       " (0, 1, 2),\n",
       " (0, 1, 3),\n",
       " (0, 2, 0),\n",
       " (0, 2, 1),\n",
       " (0, 2, 2),\n",
       " (0, 2, 3),\n",
       " (0, 3, 0),\n",
       " (0, 3, 1),\n",
       " (0, 3, 2),\n",
       " (0, 3, 3),\n",
       " (1, 0, 0),\n",
       " (1, 0, 1),\n",
       " (1, 0, 2),\n",
       " (1, 0, 3),\n",
       " (1, 1, 0),\n",
       " (1, 1, 1),\n",
       " (1, 1, 2),\n",
       " (1, 1, 3),\n",
       " (1, 2, 0),\n",
       " (1, 2, 1),\n",
       " (1, 2, 2),\n",
       " (1, 2, 3),\n",
       " (1, 3, 0),\n",
       " (1, 3, 1),\n",
       " (1, 3, 2),\n",
       " (1, 3, 3),\n",
       " (2, 0, 0),\n",
       " (2, 0, 1),\n",
       " (2, 0, 2),\n",
       " (2, 0, 3),\n",
       " (2, 1, 0),\n",
       " (2, 1, 1),\n",
       " (2, 1, 2),\n",
       " (2, 1, 3),\n",
       " (2, 2, 0),\n",
       " (2, 2, 1),\n",
       " (2, 2, 2),\n",
       " (2, 2, 3),\n",
       " (2, 3, 0),\n",
       " (2, 3, 1),\n",
       " (2, 3, 2),\n",
       " (2, 3, 3),\n",
       " (3, 0, 0),\n",
       " (3, 0, 1),\n",
       " (3, 0, 2),\n",
       " (3, 0, 3),\n",
       " (3, 1, 0),\n",
       " (3, 1, 1),\n",
       " (3, 1, 2),\n",
       " (3, 1, 3),\n",
       " (3, 2, 0),\n",
       " (3, 2, 1),\n",
       " (3, 2, 2),\n",
       " (3, 2, 3),\n",
       " (3, 3, 0),\n",
       " (3, 3, 1),\n",
       " (3, 3, 2),\n",
       " (3, 3, 3)]"
      ]
     },
     "execution_count": 35,
     "metadata": {},
     "output_type": "execute_result"
    }
   ],
   "source": [
    "#olası 3 parametre değerleri\n",
    "p = d = q = range(0, 4)\n",
    "pdq = list(itertools.product(p, d, q))\n",
    "pdq"
   ]
  },
  {
   "cell_type": "code",
   "execution_count": 36,
   "id": "df6bc51e",
   "metadata": {},
   "outputs": [],
   "source": [
    "def arima_optimizer_aic(train, orders):\n",
    "    best_aic, best_params = float(\"inf\"), None\n",
    "    for order in orders:\n",
    "        try:\n",
    "            arima_model_result = ARIMA(train, order).fit(disp=0)\n",
    "            aic = arima_model_result.aic\n",
    "            if aic < best_aic:\n",
    "                best_aic, best_params = aic, order\n",
    "            print('ARIMA%s AIC=%.2f' % (order, aic))\n",
    "        except:\n",
    "            continue\n",
    "    print('Best ARIMA%s AIC=%.2f' % (best_params, best_aic))\n",
    "    return best_params\n"
   ]
  },
  {
   "cell_type": "code",
   "execution_count": 37,
   "id": "8c99db0c",
   "metadata": {},
   "outputs": [
    {
     "name": "stdout",
     "output_type": "stream",
     "text": [
      "Best ARIMANone AIC=inf\n"
     ]
    }
   ],
   "source": [
    "best_params_aic = arima_optimizer_aic(train, pdq)\n"
   ]
  },
  {
   "cell_type": "code",
   "execution_count": null,
   "id": "b963ee06",
   "metadata": {},
   "outputs": [],
   "source": [
    "# Final Model\n"
   ]
  },
  {
   "cell_type": "code",
   "execution_count": 38,
   "id": "b70ee043",
   "metadata": {},
   "outputs": [
    {
     "ename": "TypeError",
     "evalue": "fit() got an unexpected keyword argument 'disp'",
     "output_type": "error",
     "traceback": [
      "\u001b[1;31m---------------------------------------------------------------------------\u001b[0m",
      "\u001b[1;31mTypeError\u001b[0m                                 Traceback (most recent call last)",
      "Cell \u001b[1;32mIn[38], line 1\u001b[0m\n\u001b[1;32m----> 1\u001b[0m arima_model \u001b[38;5;241m=\u001b[39m \u001b[43mARIMA\u001b[49m\u001b[43m(\u001b[49m\u001b[43mtrain\u001b[49m\u001b[43m,\u001b[49m\u001b[43m \u001b[49m\u001b[43mbest_params_aic\u001b[49m\u001b[43m)\u001b[49m\u001b[38;5;241;43m.\u001b[39;49m\u001b[43mfit\u001b[49m\u001b[43m(\u001b[49m\u001b[43mdisp\u001b[49m\u001b[38;5;241;43m=\u001b[39;49m\u001b[38;5;241;43m0\u001b[39;49m\u001b[43m)\u001b[49m\n",
      "\u001b[1;31mTypeError\u001b[0m: fit() got an unexpected keyword argument 'disp'"
     ]
    }
   ],
   "source": [
    "arima_model = ARIMA(train, best_params_aic).fit(disp=0)\n"
   ]
  },
  {
   "cell_type": "code",
   "execution_count": 39,
   "id": "6fd8b17f",
   "metadata": {},
   "outputs": [
    {
     "ename": "AttributeError",
     "evalue": "'function' object has no attribute 'forecast'",
     "output_type": "error",
     "traceback": [
      "\u001b[1;31m---------------------------------------------------------------------------\u001b[0m",
      "\u001b[1;31mAttributeError\u001b[0m                            Traceback (most recent call last)",
      "Cell \u001b[1;32mIn[39], line 1\u001b[0m\n\u001b[1;32m----> 1\u001b[0m y_pred \u001b[38;5;241m=\u001b[39m \u001b[43marima_model\u001b[49m\u001b[38;5;241;43m.\u001b[39;49m\u001b[43mforecast\u001b[49m(\u001b[38;5;241m48\u001b[39m)[\u001b[38;5;241m0\u001b[39m]\n",
      "\u001b[1;31mAttributeError\u001b[0m: 'function' object has no attribute 'forecast'"
     ]
    }
   ],
   "source": [
    "y_pred = arima_model.forecast(48)[0]\n"
   ]
  },
  {
   "cell_type": "code",
   "execution_count": null,
   "id": "91915884",
   "metadata": {},
   "outputs": [],
   "source": [
    "y_pred = pd.Series(y_pred, index=test.index)\n"
   ]
  },
  {
   "cell_type": "code",
   "execution_count": null,
   "id": "1ab0cc29",
   "metadata": {},
   "outputs": [],
   "source": [
    "plot_co2(train, test, y_pred, \"ARIMA\")\n"
   ]
  },
  {
   "cell_type": "markdown",
   "id": "2cd30435",
   "metadata": {},
   "source": [
    "# SARIMA(P,D,Q): (Seasonal Autoregressive Integrated Moving-Average)\n"
   ]
  },
  {
   "cell_type": "code",
   "execution_count": null,
   "id": "af9e753e",
   "metadata": {},
   "outputs": [],
   "source": [
    "#order daki değerler pdq değerlerinin ARIMA değerleridir.(TRENDE İLİŞİN DEĞERLER)\n",
    "#seasonal_order daki PDQ değerlerinin SARIMA değerleridir. (MEVSİMSELLİĞE İLİŞKİN DEĞERLER)\n",
    "model = SARIMAX(train, order=(1, 0, 1), seasonal_order=(0, 0, 0, 12))\n"
   ]
  },
  {
   "cell_type": "code",
   "execution_count": null,
   "id": "3a73a1db",
   "metadata": {},
   "outputs": [],
   "source": [
    "sarima_model = model.fit(disp=0)\n"
   ]
  },
  {
   "cell_type": "code",
   "execution_count": null,
   "id": "ca30c2e8",
   "metadata": {},
   "outputs": [],
   "source": [
    "#48 adım sonrası için tahmin\n",
    "y_pred_test = sarima_model.get_forecast(steps=48)\n"
   ]
  },
  {
   "cell_type": "code",
   "execution_count": null,
   "id": "3ad3ee84",
   "metadata": {},
   "outputs": [],
   "source": [
    "y_pred = y_pred_test.predicted_mean\n"
   ]
  },
  {
   "cell_type": "code",
   "execution_count": null,
   "id": "c49774ab",
   "metadata": {},
   "outputs": [],
   "source": [
    "y_pred = pd.Series(y_pred, index=test.index)\n"
   ]
  },
  {
   "cell_type": "code",
   "execution_count": null,
   "id": "1861a9e3",
   "metadata": {},
   "outputs": [],
   "source": [
    "plot_co2(train, test, y_pred, \"SARIMA\")\n"
   ]
  },
  {
   "cell_type": "code",
   "execution_count": null,
   "id": "3ebf0bb8",
   "metadata": {},
   "outputs": [],
   "source": [
    "# Hyperparameter Optimization (Model Derecelerini Belirleme)\n"
   ]
  },
  {
   "cell_type": "code",
   "execution_count": null,
   "id": "a3531c67",
   "metadata": {},
   "outputs": [],
   "source": [
    "p = d = q = range(0, 2)\n",
    "pdq = list(itertools.product(p, d, q))"
   ]
  },
  {
   "cell_type": "code",
   "execution_count": null,
   "id": "2f6982c5",
   "metadata": {},
   "outputs": [],
   "source": [
    "seasonal_pdq = [(x[0], x[1], x[2], 12) for x in list(itertools.product(p, d, q))]\n"
   ]
  },
  {
   "cell_type": "code",
   "execution_count": null,
   "id": "d837ee1e",
   "metadata": {},
   "outputs": [],
   "source": [
    "#aıc değerine göre optimizasyon:\n",
    "def sarima_optimizer_aic(train, pdq, seasonal_pdq):\n",
    "    best_aic, best_order, best_seasonal_order = float(\"inf\"), None, None\n",
    "    for param in pdq:\n",
    "        for param_seasonal in seasonal_pdq:\n",
    "            try:\n",
    "                sarimax_model = SARIMAX(train, order=param, seasonal_order=param_seasonal)\n",
    "                results = sarimax_model.fit(disp=0)\n",
    "                aic = results.aic\n",
    "                if aic < best_aic:\n",
    "                    best_aic, best_order, best_seasonal_order = aic, param, param_seasonal\n",
    "                print('SARIMA{}x{}12 - AIC:{}'.format(param, param_seasonal, aic))\n",
    "            except:\n",
    "                continue\n",
    "    print('SARIMA{}x{}12 - AIC:{}'.format(best_order, best_seasonal_order, best_aic))\n",
    "    return best_order, best_seasonal_order"
   ]
  },
  {
   "cell_type": "code",
   "execution_count": null,
   "id": "e9588643",
   "metadata": {},
   "outputs": [],
   "source": [
    "best_order, best_seasonal_order = sarima_optimizer_aic(train, pdq, seasonal_pdq)\n"
   ]
  },
  {
   "cell_type": "code",
   "execution_count": null,
   "id": "825cbac1",
   "metadata": {},
   "outputs": [],
   "source": [
    "# Final Model\n"
   ]
  },
  {
   "cell_type": "code",
   "execution_count": null,
   "id": "15f3e515",
   "metadata": {},
   "outputs": [],
   "source": [
    "model = SARIMAX(train, order=best_order, seasonal_order=best_seasonal_order)\n"
   ]
  },
  {
   "cell_type": "code",
   "execution_count": null,
   "id": "8e9acb99",
   "metadata": {},
   "outputs": [],
   "source": [
    "sarima_final_model = model.fit(disp=0)\n"
   ]
  },
  {
   "cell_type": "code",
   "execution_count": null,
   "id": "07d0d6e8",
   "metadata": {},
   "outputs": [],
   "source": [
    "y_pred_test = sarima_final_model.get_forecast(steps=48)\n"
   ]
  },
  {
   "cell_type": "code",
   "execution_count": null,
   "id": "fd4408f2",
   "metadata": {},
   "outputs": [],
   "source": [
    "y_pred = y_pred_test.predicted_mean\n"
   ]
  },
  {
   "cell_type": "code",
   "execution_count": null,
   "id": "8820a2a5",
   "metadata": {},
   "outputs": [],
   "source": [
    "y_pred = pd.Series(y_pred, index=test.index)\n"
   ]
  },
  {
   "cell_type": "code",
   "execution_count": null,
   "id": "d6812888",
   "metadata": {},
   "outputs": [],
   "source": [
    "plot_co2(train, test, y_pred, \"SARIMA\")\n"
   ]
  },
  {
   "cell_type": "code",
   "execution_count": null,
   "id": "72d37502",
   "metadata": {},
   "outputs": [],
   "source": [
    "# BONUS: MAE'ye Göre SARIMA Optimizasyonu\n"
   ]
  },
  {
   "cell_type": "code",
   "execution_count": null,
   "id": "de8dc52f",
   "metadata": {},
   "outputs": [],
   "source": [
    "\n",
    "p = d = q = range(0, 2)\n",
    "pdq = list(itertools.product(p, d, q))\n",
    "seasonal_pdq = [(x[0], x[1], x[2], 12) for x in list(itertools.product(p, d, q))]\n"
   ]
  },
  {
   "cell_type": "code",
   "execution_count": null,
   "id": "627b8aad",
   "metadata": {},
   "outputs": [],
   "source": [
    "\n",
    "def sarima_optimizer_mae(train, pdq, seasonal_pdq):\n",
    "    best_mae, best_order, best_seasonal_order = float(\"inf\"), None, None\n",
    "    for param in pdq:\n",
    "        for param_seasonal in seasonal_pdq:\n",
    "            try:\n",
    "                model = SARIMAX(train, order=param, seasonal_order=param_seasonal)\n",
    "                sarima_model = model.fit(disp=0)\n",
    "                y_pred_test = sarima_model.get_forecast(steps=48)\n",
    "                y_pred = y_pred_test.predicted_mean\n",
    "                mae = mean_absolute_error(test, y_pred)\n",
    "                if mae < best_mae:\n",
    "                    best_mae, best_order, best_seasonal_order = mae, param, param_seasonal\n",
    "                print('SARIMA{}x{}12 - MAE:{}'.format(param, param_seasonal, mae))\n",
    "            except:\n",
    "                continue\n",
    "    print('SARIMA{}x{}12 - MAE:{}'.format(best_order, best_seasonal_order, best_mae))\n",
    "    return best_order, best_seasonal_order\n"
   ]
  },
  {
   "cell_type": "code",
   "execution_count": null,
   "id": "750f7fc3",
   "metadata": {},
   "outputs": [],
   "source": [
    "best_order, best_seasonal_order = sarima_optimizer_mae(train, pdq, seasonal_pdq)\n"
   ]
  },
  {
   "cell_type": "code",
   "execution_count": null,
   "id": "40a4768f",
   "metadata": {},
   "outputs": [],
   "source": [
    "model = SARIMAX(train, order=best_order, seasonal_order=best_seasonal_order)\n"
   ]
  },
  {
   "cell_type": "code",
   "execution_count": null,
   "id": "6ec044bc",
   "metadata": {},
   "outputs": [],
   "source": [
    "sarima_final_model = model.fit(disp=0)\n"
   ]
  },
  {
   "cell_type": "code",
   "execution_count": null,
   "id": "c2f53e60",
   "metadata": {},
   "outputs": [],
   "source": [
    "y_pred_test = sarima_final_model.get_forecast(steps=48)\n"
   ]
  },
  {
   "cell_type": "code",
   "execution_count": null,
   "id": "3975d965",
   "metadata": {},
   "outputs": [],
   "source": [
    "y_pred = y_pred_test.predicted_mean\n"
   ]
  },
  {
   "cell_type": "code",
   "execution_count": null,
   "id": "d06afd15",
   "metadata": {},
   "outputs": [],
   "source": [
    "y_pred = pd.Series(y_pred, index=test.index)\n"
   ]
  },
  {
   "cell_type": "code",
   "execution_count": null,
   "id": "84ba7cf4",
   "metadata": {},
   "outputs": [],
   "source": [
    "plot_co2(train, test, y_pred, \"SARIMA\")\n"
   ]
  },
  {
   "cell_type": "code",
   "execution_count": null,
   "id": "cd8464e7",
   "metadata": {},
   "outputs": [],
   "source": [
    "# Final Model\n",
    "#tüm veriyi getiriyorum y.\n",
    "model = SARIMAX(y, order=best_order, seasonal_order=best_seasonal_order)\n"
   ]
  },
  {
   "cell_type": "code",
   "execution_count": null,
   "id": "24e6ae75",
   "metadata": {},
   "outputs": [],
   "source": [
    "sarima_final_model = model.fit(disp=0)\n"
   ]
  },
  {
   "cell_type": "code",
   "execution_count": null,
   "id": "af72882c",
   "metadata": {},
   "outputs": [],
   "source": [
    "feature_predict = sarima_final_model.get_forecast(steps=6)\n"
   ]
  },
  {
   "cell_type": "code",
   "execution_count": null,
   "id": "9110c586",
   "metadata": {},
   "outputs": [],
   "source": [
    "feature_predict = feature_predict.predicted_mean\n"
   ]
  }
 ],
 "metadata": {
  "kernelspec": {
   "display_name": "Python 3 (ipykernel)",
   "language": "python",
   "name": "python3"
  },
  "language_info": {
   "codemirror_mode": {
    "name": "ipython",
    "version": 3
   },
   "file_extension": ".py",
   "mimetype": "text/x-python",
   "name": "python",
   "nbconvert_exporter": "python",
   "pygments_lexer": "ipython3",
   "version": "3.9.16"
  }
 },
 "nbformat": 4,
 "nbformat_minor": 5
}
